{
 "cells": [
  {
   "cell_type": "markdown",
   "metadata": {},
   "source": [
    "# Ejercicio1: Crear y usar listas de Python\n",
    "\n",
    "En primer lugar, crea una variable denominada planets. Agrega los ocho planetas (sin Plutón) a la lista. A continuación, muestra el número de planetas."
   ]
  },
  {
   "cell_type": "code",
   "execution_count": 7,
   "metadata": {},
   "outputs": [
    {
     "name": "stdout",
     "output_type": "stream",
     "text": [
      "La cantidad de planetas son:  7\n"
     ]
    }
   ],
   "source": [
    "# Creamos la lista planets y la mostramos\n",
    "planets = ['Mercury', 'Venus', 'Earth', 'Mars', 'Jupiter', 'Saturn', 'Neptune']\n",
    "\n",
    "print('La cantidad de planetas son: ', len(planets))"
   ]
  },
  {
   "cell_type": "markdown",
   "metadata": {},
   "source": [
    "Agrega a Plutón a la lista que creaste. Luego muestra tanto el número de planetas como el último planeta de la lista."
   ]
  },
  {
   "cell_type": "code",
   "execution_count": 8,
   "metadata": {},
   "outputs": [
    {
     "name": "stdout",
     "output_type": "stream",
     "text": [
      "La cantidad de planetas son:  8\n",
      "El planeta agregado fue:  Pluton\n"
     ]
    }
   ],
   "source": [
    "# Agregamos a plutón y mostramos el último elemento\n",
    "planets.append(\"Pluton\")\n",
    "\n",
    "print('La cantidad de planetas son: ', len(planets))\n",
    "print('El planeta agregado fue: ', planets[-1])"
   ]
  },
  {
   "cell_type": "markdown",
   "metadata": {},
   "source": [
    "# Ejercicio 2: Trabajando con datos de una lista\n",
    "\n",
    "Comienza agregando el código para crear una lista con los planetas."
   ]
  },
  {
   "cell_type": "code",
   "execution_count": 13,
   "metadata": {},
   "outputs": [],
   "source": [
    "# Lista de planetas\n",
    "planets = ['Mercury', 'Venus', 'Earth', 'Mars', 'Jupiter', 'Saturn', 'Neptune']"
   ]
  },
  {
   "cell_type": "markdown",
   "metadata": {},
   "source": [
    "A continuación, agrega el código para solicitar al usuario un nombre. Debido a que las cadenas distinguen entre mayúsculas y minúsculas en Python, pídale al usuario que use una letra mayúscula para comenzar el nombre del planeta."
   ]
  },
  {
   "cell_type": "code",
   "execution_count": 20,
   "metadata": {},
   "outputs": [],
   "source": [
    "# Solicitamos el nombre de un planeta *Pista:  input()*\n",
    "planetaElegido = input(\"Escribe la primer letra del planeta en mayusculas\")"
   ]
  },
  {
   "cell_type": "markdown",
   "metadata": {},
   "source": [
    "Para determinar qué planetas están más cerca que el que ingresó el usuario, debes encontrar dónde está el planeta en la lista. Puedes utilizar index para realizar esta operación. Agrega el código para encontrar el índice del planeta."
   ]
  },
  {
   "cell_type": "code",
   "execution_count": 22,
   "metadata": {},
   "outputs": [],
   "source": [
    "# Busca el planeta en la lista\n",
    "planeta = planets.index(planetaElegido)"
   ]
  },
  {
   "cell_type": "markdown",
   "metadata": {},
   "source": [
    "Con el índice determinado, ahora puedes agregar el código para mostrar los planetas más cercanos al sol."
   ]
  },
  {
   "cell_type": "code",
   "execution_count": 24,
   "metadata": {},
   "outputs": [
    {
     "name": "stdout",
     "output_type": "stream",
     "text": [
      "El planeta elegido fue Earth\n",
      "Los planetas mas cercanos al sol son  ['Mercury', 'Venus']\n"
     ]
    }
   ],
   "source": [
    "# Muestra los planetas más cercanos al sol\n",
    "print('El planeta elegido fue ' + planetaElegido)\n",
    "print('Los planetas mas cercanos al sol son ', planets[0:planeta])"
   ]
  },
  {
   "cell_type": "markdown",
   "metadata": {},
   "source": [
    "Puedes usar el mismo índice para mostrar planetas más alejados del sol. Sin embargo, recuerda que el índice inicial se incluye cuando usas un slice. Como resultado, tendrás que agregar 1 al valor. Agrega el código para mostrar los planetas más alejados del sol."
   ]
  },
  {
   "cell_type": "code",
   "execution_count": 26,
   "metadata": {},
   "outputs": [
    {
     "name": "stdout",
     "output_type": "stream",
     "text": [
      "Los planetas mas alejados del sol son Earth\n",
      "['Mars', 'Jupiter', 'Saturn', 'Neptune']\n"
     ]
    }
   ],
   "source": [
    "print('Los planetas mas alejados del sol son ' + planetaElegido)\n",
    "print(planets[planeta + 1:])"
   ]
  }
 ],
 "metadata": {
  "interpreter": {
   "hash": "0ee807ca5298f2102be6fead357573ca0960663167c35b715264eabd08adfb3f"
  },
  "kernelspec": {
   "display_name": "Python 3.8.5 32-bit",
   "language": "python",
   "name": "python3"
  },
  "language_info": {
   "codemirror_mode": {
    "name": "ipython",
    "version": 3
   },
   "file_extension": ".py",
   "mimetype": "text/x-python",
   "name": "python",
   "nbconvert_exporter": "python",
   "pygments_lexer": "ipython3",
   "version": "3.8.5"
  },
  "orig_nbformat": 4
 },
 "nbformat": 4,
 "nbformat_minor": 2
}
